{
  "nbformat": 4,
  "nbformat_minor": 0,
  "metadata": {
    "colab": {
      "name": "Data Augmentation with CNNs.ipynb",
      "provenance": [],
      "collapsed_sections": []
    },
    "kernelspec": {
      "name": "python3",
      "display_name": "Python 3"
    },
    "language_info": {
      "name": "python"
    },
    "accelerator": "GPU"
  },
  "cells": [
    {
      "cell_type": "markdown",
      "source": [
        "***\n",
        "#Data Augmentation with CNNs\n",
        "***"
      ],
      "metadata": {
        "id": "GF6sdZ_bHMcU"
      }
    },
    {
      "cell_type": "code",
      "execution_count": null,
      "metadata": {
        "colab": {
          "base_uri": "https://localhost:8080/"
        },
        "id": "yZ3uMvBsQCBC",
        "outputId": "c3025977-d2e3-4de7-a0c5-b6ee1142a806"
      },
      "outputs": [
        {
          "output_type": "stream",
          "name": "stdout",
          "text": [
            "Writing download.sh\n"
          ]
        }
      ],
      "source": [
        "%%writefile download.sh\n",
        "\n",
        "fileid=\"$1\"\n",
        "filename=\"$2\"\n",
        "html=`curl -c ./cookie -s -L \"https://drive.google.com/uc?export=download&id=${fileid}\"`\n",
        "curl -Lb ./cookie \"https://drive.google.com/uc?export=download&`echo ${html}|grep -Po '(confirm=[a-zA-Z0-9\\-_]+)'`&id=${fileid}\" -o ${filename}"
      ]
    },
    {
      "cell_type": "code",
      "source": [
        "!bash download.sh 1RL0T7Rg4XqQNRCkjfnLo4goOJQ7XZro9 cats_and_dogs_filtered.zip"
      ],
      "metadata": {
        "colab": {
          "base_uri": "https://localhost:8080/"
        },
        "id": "XB8tiOn4Q2pq",
        "outputId": "fc82060e-7d9d-47e3-add9-a477851a4d9a"
      },
      "execution_count": null,
      "outputs": [
        {
          "output_type": "stream",
          "name": "stdout",
          "text": [
            "  % Total    % Received % Xferd  Average Speed   Time    Time     Time  Current\n",
            "                                 Dload  Upload   Total   Spent    Left  Speed\n",
            "  0     0    0     0    0     0      0      0 --:--:-- --:--:-- --:--:--     0\n",
            "100 65.4M  100 65.4M    0     0  39.8M      0  0:00:01  0:00:01 --:--:-- 42.8M\n"
          ]
        }
      ]
    },
    {
      "cell_type": "code",
      "source": [
        "import os\n",
        "import zipfile\n",
        "\n",
        "zip_ref = zipfile.ZipFile(\"./cats_and_dogs_filtered.zip\", 'r')\n",
        "zip_ref.extractall(\"tmp/\")\n",
        "zip_ref.close()\n",
        "\n",
        "base_dir = 'tmp/cats_and_dogs_filtered'\n",
        "train_dir = os.path.join(base_dir, 'train')\n",
        "validation_dir = os.path.join(base_dir, 'validation')\n",
        "\n",
        "train_cats_dir = os.path.join(train_dir, 'cats')\n",
        "\n",
        "train_dogs_dir = os.path.join(train_dir, 'dogs')\n",
        "\n",
        "validation_cats_dir = os.path.join(validation_dir, 'cats')\n",
        "\n",
        "validation_dogs_dir = os.path.join(validation_dir, 'dogs')\n",
        "\n",
        "\n"
      ],
      "metadata": {
        "id": "J33iswJNQ6Zd"
      },
      "execution_count": null,
      "outputs": []
    },
    {
      "cell_type": "code",
      "source": [
        "import tensorflow as tf\n",
        "from tensorflow.keras.optimizers import RMSprop\n",
        "\n",
        "def create_model():\n",
        "  '''Creates a CNN with 4 convolutional layers'''\n",
        "  model = tf.keras.models.Sequential([\n",
        "      tf.keras.layers.Conv2D(32, (3,3), activation='relu', input_shape=(150, 150, 3)),\n",
        "      tf.keras.layers.MaxPooling2D(2, 2),\n",
        "      tf.keras.layers.Conv2D(64, (3,3), activation='relu'),\n",
        "      tf.keras.layers.MaxPooling2D(2,2),\n",
        "      tf.keras.layers.Conv2D(128, (3,3), activation='relu'),\n",
        "      tf.keras.layers.MaxPooling2D(2,2),\n",
        "      tf.keras.layers.Conv2D(128, (3,3), activation='relu'),\n",
        "      tf.keras.layers.MaxPooling2D(2,2),\n",
        "      tf.keras.layers.Flatten(),\n",
        "      tf.keras.layers.Dense(512, activation='relu'),\n",
        "      tf.keras.layers.Dense(1, activation='sigmoid')\n",
        "  ])\n",
        "\n",
        "  model.compile(loss='binary_crossentropy',\n",
        "                optimizer=RMSprop(learning_rate=1e-4),\n",
        "                metrics=['accuracy'])\n",
        "  \n",
        "  return model"
      ],
      "metadata": {
        "id": "5QKIOD--Rlp6"
      },
      "execution_count": null,
      "outputs": []
    },
    {
      "cell_type": "code",
      "source": [
        "from tensorflow.keras.preprocessing.image import ImageDataGenerator\n",
        "\n",
        "train_datagen = ImageDataGenerator(rescale=1./255)\n",
        "test_datagen = ImageDataGenerator(rescale=1./255)\n",
        "\n",
        "train_generator = train_datagen.flow_from_directory(\n",
        "        train_dir,  \n",
        "        target_size=(150, 150), \n",
        "        batch_size=20,\n",
        "        class_mode='binary')\n",
        "\n",
        "validation_generator = test_datagen.flow_from_directory(\n",
        "        validation_dir,\n",
        "        target_size=(150, 150),\n",
        "        batch_size=20,\n",
        "        class_mode='binary')\n",
        "\n",
        "\n"
      ],
      "metadata": {
        "colab": {
          "base_uri": "https://localhost:8080/"
        },
        "id": "M7IBOB-1SYzk",
        "outputId": "fa225427-dfb6-48bb-f1ad-ad37f1ed9e4b"
      },
      "execution_count": null,
      "outputs": [
        {
          "output_type": "stream",
          "name": "stdout",
          "text": [
            "Found 2000 images belonging to 2 classes.\n",
            "Found 1000 images belonging to 2 classes.\n"
          ]
        }
      ]
    },
    {
      "cell_type": "code",
      "source": [
        "EPOCHS = 20\n",
        "\n",
        "model = create_model()\n",
        "\n",
        "history = model.fit(\n",
        "      train_generator,\n",
        "      steps_per_epoch=100,  \n",
        "      epochs=EPOCHS,\n",
        "      validation_data=validation_generator,\n",
        "      validation_steps=50,  \n",
        "      verbose=2)"
      ],
      "metadata": {
        "colab": {
          "base_uri": "https://localhost:8080/"
        },
        "id": "9VIJIkZfTmrM",
        "outputId": "2418b2bc-ca83-4866-badd-1c83e0f6d118"
      },
      "execution_count": null,
      "outputs": [
        {
          "output_type": "stream",
          "name": "stdout",
          "text": [
            "Epoch 1/20\n",
            "100/100 - 25s - loss: 0.6914 - accuracy: 0.5245 - val_loss: 0.6768 - val_accuracy: 0.5710 - 25s/epoch - 251ms/step\n",
            "Epoch 2/20\n",
            "100/100 - 17s - loss: 0.6659 - accuracy: 0.6005 - val_loss: 0.6457 - val_accuracy: 0.5970 - 17s/epoch - 169ms/step\n",
            "Epoch 3/20\n",
            "100/100 - 13s - loss: 0.6183 - accuracy: 0.6545 - val_loss: 0.6971 - val_accuracy: 0.5460 - 13s/epoch - 128ms/step\n",
            "Epoch 4/20\n",
            "100/100 - 18s - loss: 0.5751 - accuracy: 0.6995 - val_loss: 0.5702 - val_accuracy: 0.7030 - 18s/epoch - 177ms/step\n",
            "Epoch 5/20\n",
            "100/100 - 12s - loss: 0.5296 - accuracy: 0.7330 - val_loss: 0.5921 - val_accuracy: 0.6930 - 12s/epoch - 118ms/step\n",
            "Epoch 6/20\n",
            "100/100 - 17s - loss: 0.5123 - accuracy: 0.7500 - val_loss: 0.5533 - val_accuracy: 0.7080 - 17s/epoch - 165ms/step\n",
            "Epoch 7/20\n",
            "100/100 - 12s - loss: 0.4761 - accuracy: 0.7750 - val_loss: 0.5940 - val_accuracy: 0.6920 - 12s/epoch - 123ms/step\n",
            "Epoch 8/20\n",
            "100/100 - 11s - loss: 0.4496 - accuracy: 0.7895 - val_loss: 0.5384 - val_accuracy: 0.7330 - 11s/epoch - 106ms/step\n",
            "Epoch 9/20\n",
            "100/100 - 11s - loss: 0.4255 - accuracy: 0.7980 - val_loss: 0.5318 - val_accuracy: 0.7270 - 11s/epoch - 105ms/step\n",
            "Epoch 10/20\n",
            "100/100 - 10s - loss: 0.3958 - accuracy: 0.8205 - val_loss: 0.5482 - val_accuracy: 0.7220 - 10s/epoch - 105ms/step\n",
            "Epoch 11/20\n",
            "100/100 - 12s - loss: 0.3753 - accuracy: 0.8355 - val_loss: 0.5903 - val_accuracy: 0.7190 - 12s/epoch - 117ms/step\n",
            "Epoch 12/20\n",
            "100/100 - 11s - loss: 0.3505 - accuracy: 0.8390 - val_loss: 0.5329 - val_accuracy: 0.7510 - 11s/epoch - 109ms/step\n",
            "Epoch 13/20\n",
            "100/100 - 12s - loss: 0.3230 - accuracy: 0.8625 - val_loss: 0.5383 - val_accuracy: 0.7470 - 12s/epoch - 118ms/step\n",
            "Epoch 14/20\n",
            "100/100 - 20s - loss: 0.3020 - accuracy: 0.8705 - val_loss: 0.5685 - val_accuracy: 0.7330 - 20s/epoch - 201ms/step\n",
            "Epoch 15/20\n",
            "100/100 - 14s - loss: 0.2790 - accuracy: 0.8855 - val_loss: 0.5408 - val_accuracy: 0.7390 - 14s/epoch - 139ms/step\n",
            "Epoch 16/20\n",
            "100/100 - 10s - loss: 0.2522 - accuracy: 0.9015 - val_loss: 0.5823 - val_accuracy: 0.7370 - 10s/epoch - 103ms/step\n",
            "Epoch 17/20\n",
            "100/100 - 10s - loss: 0.2330 - accuracy: 0.9060 - val_loss: 0.5610 - val_accuracy: 0.7400 - 10s/epoch - 103ms/step\n",
            "Epoch 18/20\n",
            "100/100 - 10s - loss: 0.2083 - accuracy: 0.9230 - val_loss: 0.5899 - val_accuracy: 0.7430 - 10s/epoch - 103ms/step\n",
            "Epoch 19/20\n",
            "100/100 - 11s - loss: 0.1864 - accuracy: 0.9345 - val_loss: 0.6234 - val_accuracy: 0.7440 - 11s/epoch - 109ms/step\n",
            "Epoch 20/20\n",
            "100/100 - 10s - loss: 0.1693 - accuracy: 0.9370 - val_loss: 0.6451 - val_accuracy: 0.7420 - 10s/epoch - 104ms/step\n"
          ]
        }
      ]
    },
    {
      "cell_type": "code",
      "source": [
        "import matplotlib.pyplot as plt\n",
        "\n",
        "def plot_loss_acc(history):\n",
        "  '''Plots the training and validation loss and accuracy from a history object'''\n",
        "  acc = history.history['accuracy']\n",
        "  val_acc = history.history['val_accuracy']\n",
        "  loss = history.history['loss']\n",
        "  val_loss = history.history['val_loss']\n",
        "\n",
        "  epochs = range(len(acc))\n",
        "\n",
        "  plt.plot(epochs, acc, 'bo', label='Training accuracy')\n",
        "  plt.plot(epochs, val_acc, 'b', label='Validation accuracy')\n",
        "  plt.title('Training and validation accuracy')\n",
        "\n",
        "  plt.figure()\n",
        "\n",
        "  plt.plot(epochs, loss, 'bo', label='Training Loss')\n",
        "  plt.plot(epochs, val_loss, 'b', label='Validation Loss')\n",
        "  plt.title('Training and validation loss')\n",
        "  plt.legend()\n",
        "\n",
        "  plt.show()\n",
        "\n"
      ],
      "metadata": {
        "id": "9JWdUVIOUDoB"
      },
      "execution_count": null,
      "outputs": []
    },
    {
      "cell_type": "code",
      "source": [
        "plot_loss_acc(history)"
      ],
      "metadata": {
        "colab": {
          "base_uri": "https://localhost:8080/",
          "height": 545
        },
        "id": "rOVlAL12VAe1",
        "outputId": "ba6c87a6-8f5e-4b74-ada6-2af2ae5d3d33"
      },
      "execution_count": null,
      "outputs": [
        {
          "output_type": "display_data",
          "data": {
            "text/plain": [
              "<Figure size 432x288 with 1 Axes>"
            ],
            "image/png": "[encoded data removed]"
          },
          "metadata": {
            "needs_background": "light"
          }
        },
        {
          "output_type": "display_data",
          "data": {
            "text/plain": [
              "<Figure size 432x288 with 1 Axes>"
            ],
            "image/png": "[encoded data removed]"
          },
          "metadata": {
            "needs_background": "light"
          }
        }
      ]
    },
    {
      "cell_type": "code",
      "source": [
        "import pandas as pd \n",
        "df = pd.DataFrame(history.history)\n",
        "\n",
        "df.tail(1)"
      ],
      "metadata": {
        "colab": {
          "base_uri": "https://localhost:8080/",
          "height": 81
        },
        "id": "qgsTj9j3VdZU",
        "outputId": "dc6ca824-255f-4acf-9a02-7f8a3fb44c47"
      },
      "execution_count": null,
      "outputs": [
        {
          "output_type": "execute_result",
          "data": {
            "text/plain": [
              "        loss  accuracy  val_loss  val_accuracy\n",
              "19  0.169251     0.937  0.645103         0.742"
            ],
            "text/html": [
              "\n",
              "  <div id=\"df-53746a32-7c70-41f9-b97f-4e0d874fe3d9\">\n",
              "    <div class=\"colab-df-container\">\n",
              "      <div>\n",
              "<style scoped>\n",
              "    .dataframe tbody tr th:only-of-type {\n",
              "        vertical-align: middle;\n",
              "    }\n",
              "\n",
              "    .dataframe tbody tr th {\n",
              "        vertical-align: top;\n",
              "    }\n",
              "\n",
              "    .dataframe thead th {\n",
              "        text-align: right;\n",
              "    }\n",
              "</style>\n",
              "<table border=\"1\" class=\"dataframe\">\n",
              "  <thead>\n",
              "    <tr style=\"text-align: right;\">\n",
              "      <th></th>\n",
              "      <th>loss</th>\n",
              "      <th>accuracy</th>\n",
              "      <th>val_loss</th>\n",
              "      <th>val_accuracy</th>\n",
              "    </tr>\n",
              "  </thead>\n",
              "  <tbody>\n",
              "    <tr>\n",
              "      <th>19</th>\n",
              "      <td>0.169251</td>\n",
              "      <td>0.937</td>\n",
              "      <td>0.645103</td>\n",
              "      <td>0.742</td>\n",
              "    </tr>\n",
              "  </tbody>\n",
              "</table>\n",
              "</div>\n",
              "      <button class=\"colab-df-convert\" onclick=\"convertToInteractive('df-53746a32-7c70-41f9-b97f-4e0d874fe3d9')\"\n",
              "              title=\"Convert this dataframe to an interactive table.\"\n",
              "              style=\"display:none;\">\n",
              "        \n",
              "  <svg xmlns=\"http://www.w3.org/2000/svg\" height=\"24px\"viewBox=\"0 0 24 24\"\n",
              "       width=\"24px\">\n",
              "    <path d=\"M0 0h24v24H0V0z\" fill=\"none\"/>\n",
              "    <path d=\"M18.56 5.44l.94 2.06.94-2.06 2.06-.94-2.06-.94-.94-2.06-.94 2.06-2.06.94zm-11 1L8.5 8.5l.94-2.06 2.06-.94-2.06-.94L8.5 2.5l-.94 2.06-2.06.94zm10 10l.94 2.06.94-2.06 2.06-.94-2.06-.94-.94-2.06-.94 2.06-2.06.94z\"/><path d=\"M17.41 7.96l-1.37-1.37c-.4-.4-.92-.59-1.43-.59-.52 0-1.04.2-1.43.59L10.3 9.45l-7.72 7.72c-.78.78-.78 2.05 0 2.83L4 21.41c.39.39.9.59 1.41.59.51 0 1.02-.2 1.41-.59l7.78-7.78 2.81-2.81c.8-.78.8-2.07 0-2.86zM5.41 20L4 18.59l7.72-7.72 1.47 1.35L5.41 20z\"/>\n",
              "  </svg>\n",
              "      </button>\n",
              "      \n",
              "  <style>\n",
              "    .colab-df-container {\n",
              "      display:flex;\n",
              "      flex-wrap:wrap;\n",
              "      gap: 12px;\n",
              "    }\n",
              "\n",
              "    .colab-df-convert {\n",
              "      background-color: #E8F0FE;\n",
              "      border: none;\n",
              "      border-radius: 50%;\n",
              "      cursor: pointer;\n",
              "      display: none;\n",
              "      fill: #1967D2;\n",
              "      height: 32px;\n",
              "      padding: 0 0 0 0;\n",
              "      width: 32px;\n",
              "    }\n",
              "\n",
              "    .colab-df-convert:hover {\n",
              "      background-color: #E2EBFA;\n",
              "      box-shadow: 0px 1px 2px rgba(60, 64, 67, 0.3), 0px 1px 3px 1px rgba(60, 64, 67, 0.15);\n",
              "      fill: #174EA6;\n",
              "    }\n",
              "\n",
              "    [theme=dark] .colab-df-convert {\n",
              "      background-color: #3B4455;\n",
              "      fill: #D2E3FC;\n",
              "    }\n",
              "\n",
              "    [theme=dark] .colab-df-convert:hover {\n",
              "      background-color: #434B5C;\n",
              "      box-shadow: 0px 1px 3px 1px rgba(0, 0, 0, 0.15);\n",
              "      filter: drop-shadow(0px 1px 2px rgba(0, 0, 0, 0.3));\n",
              "      fill: #FFFFFF;\n",
              "    }\n",
              "  </style>\n",
              "\n",
              "      <script>\n",
              "        const buttonEl =\n",
              "          document.querySelector('#df-53746a32-7c70-41f9-b97f-4e0d874fe3d9 button.colab-df-convert');\n",
              "        buttonEl.style.display =\n",
              "          google.colab.kernel.accessAllowed ? 'block' : 'none';\n",
              "\n",
              "        async function convertToInteractive(key) {\n",
              "          const element = document.querySelector('#df-53746a32-7c70-41f9-b97f-4e0d874fe3d9');\n",
              "          const dataTable =\n",
              "            await google.colab.kernel.invokeFunction('convertToInteractive',\n",
              "                                                     [key], {});\n",
              "          if (!dataTable) return;\n",
              "\n",
              "          const docLinkHtml = 'Like what you see? Visit the ' +\n",
              "            '<a target=\"_blank\" href=https://colab.research.google.com/notebooks/data_table.ipynb>data table notebook</a>'\n",
              "            + ' to learn more about interactive tables.';\n",
              "          element.innerHTML = '';\n",
              "          dataTable['output_type'] = 'display_data';\n",
              "          await google.colab.output.renderOutput(dataTable, element);\n",
              "          const docLink = document.createElement('div');\n",
              "          docLink.innerHTML = docLinkHtml;\n",
              "          element.appendChild(docLink);\n",
              "        }\n",
              "      </script>\n",
              "    </div>\n",
              "  </div>\n",
              "  "
            ]
          },
          "metadata": {},
          "execution_count": 21
        }
      ]
    },
    {
      "cell_type": "code",
      "source": [
        "model_for_aug = create_model()\n",
        "\n",
        "\n",
        "train_datagen = ImageDataGenerator(\n",
        "      rescale=1./255,\n",
        "      rotation_range=40,\n",
        "      width_shift_range=0.2,\n",
        "      height_shift_range=0.2,\n",
        "      shear_range=0.2,\n",
        "      zoom_range=0.2,\n",
        "      horizontal_flip=True,\n",
        "      fill_mode='nearest')\n",
        "\n",
        "test_datagen = ImageDataGenerator(rescale=1./255)\n",
        "\n",
        "train_generator = train_datagen.flow_from_directory(\n",
        "        train_dir, \n",
        "        target_size=(150, 150), \n",
        "        batch_size=20,\n",
        "        class_mode='binary')\n",
        "\n",
        "validation_generator = test_datagen.flow_from_directory(\n",
        "        validation_dir,\n",
        "        target_size=(150, 150),\n",
        "        batch_size=20,\n",
        "        class_mode='binary')\n",
        "\n",
        "history_with_aug = model_for_aug.fit(\n",
        "      train_generator,\n",
        "      steps_per_epoch=100,  \n",
        "      epochs=EPOCHS,\n",
        "      validation_data=validation_generator,\n",
        "      validation_steps=50, \n",
        "      verbose=2)"
      ],
      "metadata": {
        "colab": {
          "base_uri": "https://localhost:8080/"
        },
        "id": "W6JlXOpBVqJz",
        "outputId": "778e297a-5185-42e9-bab3-e3cd7ab26b61"
      },
      "execution_count": null,
      "outputs": [
        {
          "output_type": "stream",
          "name": "stdout",
          "text": [
            "Found 2000 images belonging to 2 classes.\n",
            "Found 1000 images belonging to 2 classes.\n",
            "Epoch 1/20\n",
            "100/100 - 24s - loss: 0.6930 - accuracy: 0.5205 - val_loss: 0.6829 - val_accuracy: 0.4990 - 24s/epoch - 236ms/step\n",
            "Epoch 2/20\n",
            "100/100 - 22s - loss: 0.6786 - accuracy: 0.5565 - val_loss: 0.6492 - val_accuracy: 0.6270 - 22s/epoch - 221ms/step\n",
            "Epoch 3/20\n",
            "100/100 - 23s - loss: 0.6626 - accuracy: 0.6020 - val_loss: 0.6271 - val_accuracy: 0.6660 - 23s/epoch - 226ms/step\n",
            "Epoch 4/20\n",
            "100/100 - 21s - loss: 0.6421 - accuracy: 0.6360 - val_loss: 0.5954 - val_accuracy: 0.6830 - 21s/epoch - 206ms/step\n",
            "Epoch 5/20\n",
            "100/100 - 21s - loss: 0.6204 - accuracy: 0.6495 - val_loss: 0.5761 - val_accuracy: 0.7010 - 21s/epoch - 205ms/step\n",
            "Epoch 6/20\n",
            "100/100 - 20s - loss: 0.6180 - accuracy: 0.6535 - val_loss: 0.6865 - val_accuracy: 0.6100 - 20s/epoch - 204ms/step\n",
            "Epoch 7/20\n",
            "100/100 - 22s - loss: 0.5977 - accuracy: 0.6755 - val_loss: 0.5674 - val_accuracy: 0.7050 - 22s/epoch - 215ms/step\n",
            "Epoch 8/20\n",
            "100/100 - 20s - loss: 0.5909 - accuracy: 0.6855 - val_loss: 0.5548 - val_accuracy: 0.7060 - 20s/epoch - 204ms/step\n",
            "Epoch 9/20\n",
            "100/100 - 20s - loss: 0.5954 - accuracy: 0.6700 - val_loss: 0.5545 - val_accuracy: 0.7010 - 20s/epoch - 204ms/step\n",
            "Epoch 10/20\n",
            "100/100 - 20s - loss: 0.5851 - accuracy: 0.6785 - val_loss: 0.5491 - val_accuracy: 0.7070 - 20s/epoch - 204ms/step\n",
            "Epoch 11/20\n",
            "100/100 - 20s - loss: 0.5876 - accuracy: 0.6845 - val_loss: 0.5421 - val_accuracy: 0.7290 - 20s/epoch - 204ms/step\n",
            "Epoch 12/20\n",
            "100/100 - 20s - loss: 0.5704 - accuracy: 0.7080 - val_loss: 0.5921 - val_accuracy: 0.6670 - 20s/epoch - 203ms/step\n",
            "Epoch 13/20\n",
            "100/100 - 20s - loss: 0.5621 - accuracy: 0.7100 - val_loss: 0.5361 - val_accuracy: 0.7230 - 20s/epoch - 203ms/step\n",
            "Epoch 14/20\n",
            "100/100 - 20s - loss: 0.5709 - accuracy: 0.7100 - val_loss: 0.5237 - val_accuracy: 0.7290 - 20s/epoch - 204ms/step\n",
            "Epoch 15/20\n",
            "100/100 - 20s - loss: 0.5515 - accuracy: 0.7100 - val_loss: 0.6543 - val_accuracy: 0.6540 - 20s/epoch - 204ms/step\n",
            "Epoch 16/20\n",
            "100/100 - 20s - loss: 0.5557 - accuracy: 0.7105 - val_loss: 0.5228 - val_accuracy: 0.7190 - 20s/epoch - 203ms/step\n",
            "Epoch 17/20\n",
            "100/100 - 20s - loss: 0.5483 - accuracy: 0.7285 - val_loss: 0.5529 - val_accuracy: 0.7000 - 20s/epoch - 203ms/step\n",
            "Epoch 18/20\n",
            "100/100 - 20s - loss: 0.5338 - accuracy: 0.7345 - val_loss: 0.5057 - val_accuracy: 0.7420 - 20s/epoch - 203ms/step\n",
            "Epoch 19/20\n",
            "100/100 - 20s - loss: 0.5332 - accuracy: 0.7305 - val_loss: 0.5379 - val_accuracy: 0.7170 - 20s/epoch - 204ms/step\n",
            "Epoch 20/20\n",
            "100/100 - 20s - loss: 0.5364 - accuracy: 0.7285 - val_loss: 0.5235 - val_accuracy: 0.7270 - 20s/epoch - 204ms/step\n"
          ]
        }
      ]
    },
    {
      "cell_type": "code",
      "source": [
        "plot_loss_acc(history_with_aug)"
      ],
      "metadata": {
        "colab": {
          "base_uri": "https://localhost:8080/",
          "height": 545
        },
        "id": "v0moaZt7Wb3Z",
        "outputId": "3c11c11a-345d-4618-d54a-77dc8211daf6"
      },
      "execution_count": null,
      "outputs": [
        {
          "output_type": "display_data",
          "data": {
            "text/plain": [
              "<Figure size 432x288 with 1 Axes>"
            ],
            "image/png": "[encoded data removed]"
          },
          "metadata": {
            "needs_background": "light"
          }
        },
        {
          "output_type": "display_data",
          "data": {
            "text/plain": [
              "<Figure size 432x288 with 1 Axes>"
            ],
            "image/png": "[encoded data removed]"
          },
          "metadata": {
            "needs_background": "light"
          }
        }
      ]
    },
    {
      "cell_type": "code",
      "source": [
        "import pandas as pd \n",
        "df_aug = pd.DataFrame(history_with_aug.history)\n",
        "\n",
        "df_aug.tail(5)"
      ],
      "metadata": {
        "colab": {
          "base_uri": "https://localhost:8080/",
          "height": 206
        },
        "id": "8UKSwP7hWbqI",
        "outputId": "e9145b5d-de0a-4764-9948-dc4a35ae498c"
      },
      "execution_count": null,
      "outputs": [
        {
          "output_type": "execute_result",
          "data": {
            "text/plain": [
              "        loss  accuracy  val_loss  val_accuracy\n",
              "15  0.555691    0.7105  0.522794         0.719\n",
              "16  0.548279    0.7285  0.552865         0.700\n",
              "17  0.533767    0.7345  0.505704         0.742\n",
              "18  0.533150    0.7305  0.537926         0.717\n",
              "19  0.536435    0.7285  0.523513         0.727"
            ],
            "text/html": [
              "\n",
              "  <div id=\"df-ae8888bf-8e9d-4cdf-8648-c6b2cc575265\">\n",
              "    <div class=\"colab-df-container\">\n",
              "      <div>\n",
              "<style scoped>\n",
              "    .dataframe tbody tr th:only-of-type {\n",
              "        vertical-align: middle;\n",
              "    }\n",
              "\n",
              "    .dataframe tbody tr th {\n",
              "        vertical-align: top;\n",
              "    }\n",
              "\n",
              "    .dataframe thead th {\n",
              "        text-align: right;\n",
              "    }\n",
              "</style>\n",
              "<table border=\"1\" class=\"dataframe\">\n",
              "  <thead>\n",
              "    <tr style=\"text-align: right;\">\n",
              "      <th></th>\n",
              "      <th>loss</th>\n",
              "      <th>accuracy</th>\n",
              "      <th>val_loss</th>\n",
              "      <th>val_accuracy</th>\n",
              "    </tr>\n",
              "  </thead>\n",
              "  <tbody>\n",
              "    <tr>\n",
              "      <th>15</th>\n",
              "      <td>0.555691</td>\n",
              "      <td>0.7105</td>\n",
              "      <td>0.522794</td>\n",
              "      <td>0.719</td>\n",
              "    </tr>\n",
              "    <tr>\n",
              "      <th>16</th>\n",
              "      <td>0.548279</td>\n",
              "      <td>0.7285</td>\n",
              "      <td>0.552865</td>\n",
              "      <td>0.700</td>\n",
              "    </tr>\n",
              "    <tr>\n",
              "      <th>17</th>\n",
              "      <td>0.533767</td>\n",
              "      <td>0.7345</td>\n",
              "      <td>0.505704</td>\n",
              "      <td>0.742</td>\n",
              "    </tr>\n",
              "    <tr>\n",
              "      <th>18</th>\n",
              "      <td>0.533150</td>\n",
              "      <td>0.7305</td>\n",
              "      <td>0.537926</td>\n",
              "      <td>0.717</td>\n",
              "    </tr>\n",
              "    <tr>\n",
              "      <th>19</th>\n",
              "      <td>0.536435</td>\n",
              "      <td>0.7285</td>\n",
              "      <td>0.523513</td>\n",
              "      <td>0.727</td>\n",
              "    </tr>\n",
              "  </tbody>\n",
              "</table>\n",
              "</div>\n",
              "      <button class=\"colab-df-convert\" onclick=\"convertToInteractive('df-ae8888bf-8e9d-4cdf-8648-c6b2cc575265')\"\n",
              "              title=\"Convert this dataframe to an interactive table.\"\n",
              "              style=\"display:none;\">\n",
              "        \n",
              "  <svg xmlns=\"http://www.w3.org/2000/svg\" height=\"24px\"viewBox=\"0 0 24 24\"\n",
              "       width=\"24px\">\n",
              "    <path d=\"M0 0h24v24H0V0z\" fill=\"none\"/>\n",
              "    <path d=\"M18.56 5.44l.94 2.06.94-2.06 2.06-.94-2.06-.94-.94-2.06-.94 2.06-2.06.94zm-11 1L8.5 8.5l.94-2.06 2.06-.94-2.06-.94L8.5 2.5l-.94 2.06-2.06.94zm10 10l.94 2.06.94-2.06 2.06-.94-2.06-.94-.94-2.06-.94 2.06-2.06.94z\"/><path d=\"M17.41 7.96l-1.37-1.37c-.4-.4-.92-.59-1.43-.59-.52 0-1.04.2-1.43.59L10.3 9.45l-7.72 7.72c-.78.78-.78 2.05 0 2.83L4 21.41c.39.39.9.59 1.41.59.51 0 1.02-.2 1.41-.59l7.78-7.78 2.81-2.81c.8-.78.8-2.07 0-2.86zM5.41 20L4 18.59l7.72-7.72 1.47 1.35L5.41 20z\"/>\n",
              "  </svg>\n",
              "      </button>\n",
              "      \n",
              "  <style>\n",
              "    .colab-df-container {\n",
              "      display:flex;\n",
              "      flex-wrap:wrap;\n",
              "      gap: 12px;\n",
              "    }\n",
              "\n",
              "    .colab-df-convert {\n",
              "      background-color: #E8F0FE;\n",
              "      border: none;\n",
              "      border-radius: 50%;\n",
              "      cursor: pointer;\n",
              "      display: none;\n",
              "      fill: #1967D2;\n",
              "      height: 32px;\n",
              "      padding: 0 0 0 0;\n",
              "      width: 32px;\n",
              "    }\n",
              "\n",
              "    .colab-df-convert:hover {\n",
              "      background-color: #E2EBFA;\n",
              "      box-shadow: 0px 1px 2px rgba(60, 64, 67, 0.3), 0px 1px 3px 1px rgba(60, 64, 67, 0.15);\n",
              "      fill: #174EA6;\n",
              "    }\n",
              "\n",
              "    [theme=dark] .colab-df-convert {\n",
              "      background-color: #3B4455;\n",
              "      fill: #D2E3FC;\n",
              "    }\n",
              "\n",
              "    [theme=dark] .colab-df-convert:hover {\n",
              "      background-color: #434B5C;\n",
              "      box-shadow: 0px 1px 3px 1px rgba(0, 0, 0, 0.15);\n",
              "      filter: drop-shadow(0px 1px 2px rgba(0, 0, 0, 0.3));\n",
              "      fill: #FFFFFF;\n",
              "    }\n",
              "  </style>\n",
              "\n",
              "      <script>\n",
              "        const buttonEl =\n",
              "          document.querySelector('#df-ae8888bf-8e9d-4cdf-8648-c6b2cc575265 button.colab-df-convert');\n",
              "        buttonEl.style.display =\n",
              "          google.colab.kernel.accessAllowed ? 'block' : 'none';\n",
              "\n",
              "        async function convertToInteractive(key) {\n",
              "          const element = document.querySelector('#df-ae8888bf-8e9d-4cdf-8648-c6b2cc575265');\n",
              "          const dataTable =\n",
              "            await google.colab.kernel.invokeFunction('convertToInteractive',\n",
              "                                                     [key], {});\n",
              "          if (!dataTable) return;\n",
              "\n",
              "          const docLinkHtml = 'Like what you see? Visit the ' +\n",
              "            '<a target=\"_blank\" href=https://colab.research.google.com/notebooks/data_table.ipynb>data table notebook</a>'\n",
              "            + ' to learn more about interactive tables.';\n",
              "          element.innerHTML = '';\n",
              "          dataTable['output_type'] = 'display_data';\n",
              "          await google.colab.output.renderOutput(dataTable, element);\n",
              "          const docLink = document.createElement('div');\n",
              "          docLink.innerHTML = docLinkHtml;\n",
              "          element.appendChild(docLink);\n",
              "        }\n",
              "      </script>\n",
              "    </div>\n",
              "  </div>\n",
              "  "
            ]
          },
          "metadata": {},
          "execution_count": 28
        }
      ]
    },
    {
      "cell_type": "code",
      "source": [
        ""
      ],
      "metadata": {
        "id": "gDiM7cVyYnDk"
      },
      "execution_count": null,
      "outputs": []
    }
  ]
}